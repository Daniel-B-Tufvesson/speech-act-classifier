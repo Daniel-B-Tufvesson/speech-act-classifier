{
 "cells": [
  {
   "cell_type": "markdown",
   "metadata": {},
   "source": [
    "We evaluate both the rule-based classifier and the embedding-based classifier."
   ]
  },
  {
   "cell_type": "code",
   "execution_count": null,
   "metadata": {},
   "outputs": [],
   "source": [
    "from context import speechact\n",
    "import speechact.classifier.embedding as emb\n",
    "import speechact.classifier.base as b\n",
    "import speechact.evaluation as evaluation\n",
    "import speechact.corpus as corp\n",
    "import speechact.annotate as anno\n",
    "import matplotlib.pyplot as plt\n",
    "\n",
    "\n",
    "labels = [act.value for act in emb.SPEECH_ACTS]\n",
    "\n",
    "# Load test data.\n",
    "test_corpus = corp.Corpus('data/annotated data/test-set-upsampled.conllu.bz2')"
   ]
  }
 ],
 "metadata": {
  "language_info": {
   "name": "python"
  }
 },
 "nbformat": 4,
 "nbformat_minor": 2
}
