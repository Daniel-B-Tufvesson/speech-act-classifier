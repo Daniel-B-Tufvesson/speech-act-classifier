{
 "cells": [
  {
   "cell_type": "markdown",
   "metadata": {},
   "source": [
    "Here I analyze the correlation between speech acts and sentiment. More precisely, I compute the Phi coefficient between assertives/expressives and neutral/non-neutral sentiment."
   ]
  },
  {
   "cell_type": "code",
   "execution_count": 8,
   "metadata": {},
   "outputs": [],
   "source": [
    "from context import speechact\n",
    "import speechact.classifier.embedding as emb\n",
    "import speechact.classifier.base as b\n",
    "import speechact.evaluation as evaluation\n",
    "import speechact.corpus as corp\n",
    "import speechact.annotate as anno\n",
    "from speechact.annotate import SpeechActLabels\n",
    "from speechact import Sentiment\n",
    "import matplotlib.pyplot as plt"
   ]
  },
  {
   "cell_type": "code",
   "execution_count": 14,
   "metadata": {},
   "outputs": [],
   "source": [
    "import numpy as np\n",
    "import scipy.stats as st\n",
    "\n",
    "class ContingencyTable:\n",
    "\n",
    "    def __init__(self) -> None:\n",
    "        self.neutral_expressives = 0\n",
    "        self.non_neutral_expressives = 0\n",
    "        self.neutral_assertives = 0\n",
    "        self.non_neutral_assertives = 0\n",
    "    \n",
    "    def to_matrix(self) -> np.ndarray:\n",
    "        return np.array([[self.non_neutral_expressives, self.non_neutral_assertives], \n",
    "                         [self.neutral_expressives, self.neutral_assertives]])\n",
    "\n",
    "def phi_coefficient(observed: np.ndarray):\n",
    "    chi2, p, _, _ = st.chi2_contingency(observed)\n",
    "    n = observed.sum()\n",
    "    phi = np.sqrt(chi2 / n)\n",
    "    return phi, p\n",
    "\n",
    "#phi = phi_coefficient(observed)\n",
    "#print(\"Phi coefficient:\", phi)"
   ]
  },
  {
   "cell_type": "markdown",
   "metadata": {},
   "source": [
    "# Examine the Data"
   ]
  },
  {
   "cell_type": "code",
   "execution_count": 16,
   "metadata": {},
   "outputs": [
    {
     "name": "stdout",
     "output_type": "stream",
     "text": [
      "[[ 242  161]\n",
      " [ 255 1194]]\n",
      "Phi coefficient = 0.39382598550763187, and p = 1.9826824244355964e-64\n"
     ]
    }
   ],
   "source": [
    "corpus = corp.Corpus('../data/annotated data/dev-set-sentiment.conllu.bz2')\n",
    "observations = ContingencyTable()\n",
    "\n",
    "for sentence in corpus.sentences():\n",
    "    sentiment_label = sentence.get_meta_data('sentiment_label')\n",
    "    speech_act = sentence.speech_act\n",
    "\n",
    "    if speech_act == SpeechActLabels.ASSERTION:\n",
    "        if sentiment_label == Sentiment.NEUTRAL:\n",
    "            observations.neutral_assertives += 1\n",
    "        else:\n",
    "            observations.non_neutral_assertives += 1\n",
    "    elif speech_act == SpeechActLabels.EXPRESSIVE:\n",
    "        if sentiment_label == Sentiment.NEUTRAL:\n",
    "            observations.neutral_expressives += 1\n",
    "        else:\n",
    "            observations.non_neutral_expressives += 1\n",
    "\n",
    "\n",
    "phi, p = phi_coefficient(observations.to_matrix())\n",
    "print(observations.to_matrix())\n",
    "print(f'Phi coefficient = {phi}, and p = {p}')"
   ]
  }
 ],
 "metadata": {
  "kernelspec": {
   "display_name": ".venv",
   "language": "python",
   "name": "python3"
  },
  "language_info": {
   "codemirror_mode": {
    "name": "ipython",
    "version": 3
   },
   "file_extension": ".py",
   "mimetype": "text/x-python",
   "name": "python",
   "nbconvert_exporter": "python",
   "pygments_lexer": "ipython3",
   "version": "3.11.0"
  }
 },
 "nbformat": 4,
 "nbformat_minor": 2
}
