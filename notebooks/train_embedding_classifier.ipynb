{
 "cells": [
  {
   "cell_type": "code",
   "execution_count": 8,
   "metadata": {},
   "outputs": [],
   "source": [
    "from context import speechact\n",
    "import speechact.classifier.embedding as emb\n",
    "import speechact.classifier.base as b\n",
    "import speechact.evaluation as evaluation\n",
    "import speechact.corpus as corp\n",
    "import speechact.annotate as anno\n",
    "import matplotlib.pyplot as plt"
   ]
  },
  {
   "cell_type": "code",
   "execution_count": 9,
   "metadata": {},
   "outputs": [],
   "source": [
    "labels = [act.value for act in emb.SPEECH_ACTS]\n",
    "\n",
    "# Load upsampled data. Note: the file names are correct even if it does not look like it.\n",
    "test_corpus = corp.Corpus('../data/annotated data/dev-set-sentiment-train-upsampled.conllu.bz2')\n",
    "dev_corpus = corp.Corpus('../data/annotated data/dev-set-sentiment-test-upsampled.conllu.bz2')\n",
    "train_corpus = corp.Corpus('../data/auto-annotated data/speech-acts.conllu.bz2')\n"
   ]
  },
  {
   "cell_type": "code",
   "execution_count": 10,
   "metadata": {},
   "outputs": [],
   "source": [
    "def plot_loss_histories(loss_history: list[float], dev_loss_history: list[float]):\n",
    "    epochs = range(1, len(loss_history) + 1)\n",
    "    plt.plot(epochs, loss_history, label='Training Loss')\n",
    "    plt.plot(epochs, dev_loss_history, label='Dev Loss')\n",
    "    plt.title('Training and Dev Loss')\n",
    "    plt.xlabel('Epoch')\n",
    "    plt.ylabel('Loss')\n",
    "    plt.legend()\n",
    "    plt.show()"
   ]
  },
  {
   "cell_type": "code",
   "execution_count": 11,
   "metadata": {},
   "outputs": [],
   "source": [
    "def train_model(corpus: corp.Corpus, dev_corpus: corp.Corpus, model_name: str):\n",
    "    print('Load classifier')\n",
    "    classifier = emb.EmbeddingClassifier()\n",
    "\n",
    "    print('Load dataset')\n",
    "    dataset = emb.CorpusDataset(corpus)\n",
    "    dev_dataset = emb.CorpusDataset(dev_corpus)\n",
    "\n",
    "    loss_history = []\n",
    "    dev_loss_history = []\n",
    "    \n",
    "    print(f'Train classifier: {model_name}')\n",
    "    classifier.train(dataset, 32, loss_history=loss_history, \n",
    "                     dev_loss_history=dev_loss_history,\n",
    "                     dev_data=dev_dataset, save_each_epoch=model_name,\n",
    "                     use_class_weights=True)\n",
    "    classifier.save(model_name)\n",
    "\n",
    "    plot_loss_histories(loss_history, dev_loss_history)"
   ]
  },
  {
   "cell_type": "code",
   "execution_count": 12,
   "metadata": {},
   "outputs": [],
   "source": [
    "def evaluate_model(corpus: corp.Corpus, model_name: str):\n",
    "    print('Load classifier')\n",
    "    classifier = emb.EmbeddingClassifier()\n",
    "    classifier.load(model_name)\n",
    "\n",
    "    print(f'Evaluate classifier: {model_name}')\n",
    "    return evaluation.evaluate(\n",
    "        corpus,\n",
    "        classifier,\n",
    "        labels,\n",
    "        draw_conf_matrix=True\n",
    "    )"
   ]
  },
  {
   "cell_type": "markdown",
   "metadata": {},
   "source": [
    "# Train the Model"
   ]
  },
  {
   "cell_type": "code",
   "execution_count": 13,
   "metadata": {},
   "outputs": [
    {
     "name": "stdout",
     "output_type": "stream",
     "text": [
      "Load classifier\n"
     ]
    },
    {
     "name": "stdout",
     "output_type": "stream",
     "text": [
      "Load dataset\n",
      "Train classifier: ../models/neural/no-hidden/final-model.pth\n"
     ]
    },
    {
     "name": "stderr",
     "output_type": "stream",
     "text": [
      "Training: epoch 1/10\", unit=\"batch: 100%|██████████| 102932/102932 [12:19:30<00:00,  2.32it/s] \n"
     ]
    },
    {
     "name": "stdout",
     "output_type": "stream",
     "text": [
      "Saving model to \"../models/neural/no-hidden/final-model.pth\"\n",
      "Epoch 1/10, Loss: 0.7533875958772465\n"
     ]
    },
    {
     "name": "stderr",
     "output_type": "stream",
     "text": [
      "Eval on dev data: epoch 1/10\", unit=\"batch: 100%|██████████| 34/34 [00:12<00:00,  2.77it/s]\n"
     ]
    },
    {
     "name": "stdout",
     "output_type": "stream",
     "text": [
      "Epoch 1/10, Dev loss: 0.6058076111709371\n"
     ]
    },
    {
     "name": "stderr",
     "output_type": "stream",
     "text": [
      "Training: epoch 2/10\", unit=\"batch: 100%|██████████| 102932/102932 [12:13:11<00:00,  2.34it/s] \n"
     ]
    },
    {
     "name": "stdout",
     "output_type": "stream",
     "text": [
      "Saving model to \"../models/neural/no-hidden/final-model.pth\"\n",
      "Epoch 2/10, Loss: 0.7001822348486465\n"
     ]
    },
    {
     "name": "stderr",
     "output_type": "stream",
     "text": [
      "Eval on dev data: epoch 2/10\", unit=\"batch: 100%|██████████| 34/34 [00:11<00:00,  3.00it/s]\n"
     ]
    },
    {
     "name": "stdout",
     "output_type": "stream",
     "text": [
      "Epoch 2/10, Dev loss: 0.5847504770054537\n"
     ]
    },
    {
     "name": "stderr",
     "output_type": "stream",
     "text": [
      "Training: epoch 3/10\", unit=\"batch: 100%|██████████| 102932/102932 [12:13:55<00:00,  2.34it/s] \n"
     ]
    },
    {
     "name": "stdout",
     "output_type": "stream",
     "text": [
      "Saving model to \"../models/neural/no-hidden/final-model.pth\"\n",
      "Epoch 3/10, Loss: 0.6876029005967683\n"
     ]
    },
    {
     "name": "stderr",
     "output_type": "stream",
     "text": [
      "Eval on dev data: epoch 3/10\", unit=\"batch: 100%|██████████| 34/34 [00:12<00:00,  2.75it/s]\n"
     ]
    },
    {
     "name": "stdout",
     "output_type": "stream",
     "text": [
      "Epoch 3/10, Dev loss: 0.5745385911534814\n"
     ]
    },
    {
     "name": "stderr",
     "output_type": "stream",
     "text": [
      "Training: epoch 4/10\", unit=\"batch: 100%|██████████| 102932/102932 [12:21:14<00:00,  2.31it/s] \n"
     ]
    },
    {
     "name": "stdout",
     "output_type": "stream",
     "text": [
      "Saving model to \"../models/neural/no-hidden/final-model.pth\"\n",
      "Epoch 4/10, Loss: 0.6813968165765644\n"
     ]
    },
    {
     "name": "stderr",
     "output_type": "stream",
     "text": [
      "Eval on dev data: epoch 4/10\", unit=\"batch: 100%|██████████| 34/34 [00:11<00:00,  3.08it/s]\n"
     ]
    },
    {
     "name": "stdout",
     "output_type": "stream",
     "text": [
      "Epoch 4/10, Dev loss: 0.5554561834124958\n"
     ]
    },
    {
     "name": "stderr",
     "output_type": "stream",
     "text": [
      "Training: epoch 5/10\", unit=\"batch: 100%|██████████| 102932/102932 [12:23:05<00:00,  2.31it/s] \n"
     ]
    },
    {
     "name": "stdout",
     "output_type": "stream",
     "text": [
      "Saving model to \"../models/neural/no-hidden/final-model.pth\"\n",
      "Epoch 5/10, Loss: 0.6775944436474449\n"
     ]
    },
    {
     "name": "stderr",
     "output_type": "stream",
     "text": [
      "Eval on dev data: epoch 5/10\", unit=\"batch: 100%|██████████| 34/34 [00:11<00:00,  2.99it/s]\n"
     ]
    },
    {
     "name": "stdout",
     "output_type": "stream",
     "text": [
      "Epoch 5/10, Dev loss: 0.5650510538150283\n"
     ]
    },
    {
     "name": "stderr",
     "output_type": "stream",
     "text": [
      "Training: epoch 6/10\", unit=\"batch:  36%|███▌      | 36875/102932 [4:27:02<7:58:21,  2.30it/s] \n"
     ]
    },
    {
     "ename": "KeyboardInterrupt",
     "evalue": "",
     "output_type": "error",
     "traceback": [
      "\u001b[0;31m---------------------------------------------------------------------------\u001b[0m",
      "\u001b[0;31mKeyboardInterrupt\u001b[0m                         Traceback (most recent call last)",
      "Cell \u001b[0;32mIn[13], line 1\u001b[0m\n\u001b[0;32m----> 1\u001b[0m \u001b[43mtrain_model\u001b[49m\u001b[43m(\u001b[49m\u001b[43mtrain_corpus\u001b[49m\u001b[43m,\u001b[49m\u001b[43m \u001b[49m\u001b[43mdev_corpus\u001b[49m\u001b[43m,\u001b[49m\u001b[43m \u001b[49m\n\u001b[1;32m      2\u001b[0m \u001b[43m            \u001b[49m\u001b[43mmodel_name\u001b[49m\u001b[38;5;241;43m=\u001b[39;49m\u001b[38;5;124;43m'\u001b[39;49m\u001b[38;5;124;43m../models/neural/no-hidden/final-model.pth\u001b[39;49m\u001b[38;5;124;43m'\u001b[39;49m\u001b[43m)\u001b[49m\n",
      "Cell \u001b[0;32mIn[11], line 13\u001b[0m, in \u001b[0;36mtrain_model\u001b[0;34m(corpus, dev_corpus, model_name)\u001b[0m\n\u001b[1;32m     10\u001b[0m dev_loss_history \u001b[38;5;241m=\u001b[39m []\n\u001b[1;32m     12\u001b[0m \u001b[38;5;28mprint\u001b[39m(\u001b[38;5;124mf\u001b[39m\u001b[38;5;124m'\u001b[39m\u001b[38;5;124mTrain classifier: \u001b[39m\u001b[38;5;132;01m{\u001b[39;00mmodel_name\u001b[38;5;132;01m}\u001b[39;00m\u001b[38;5;124m'\u001b[39m)\n\u001b[0;32m---> 13\u001b[0m \u001b[43mclassifier\u001b[49m\u001b[38;5;241;43m.\u001b[39;49m\u001b[43mtrain\u001b[49m\u001b[43m(\u001b[49m\u001b[43mdataset\u001b[49m\u001b[43m,\u001b[49m\u001b[43m \u001b[49m\u001b[38;5;241;43m32\u001b[39;49m\u001b[43m,\u001b[49m\u001b[43m \u001b[49m\u001b[43mloss_history\u001b[49m\u001b[38;5;241;43m=\u001b[39;49m\u001b[43mloss_history\u001b[49m\u001b[43m,\u001b[49m\u001b[43m \u001b[49m\n\u001b[1;32m     14\u001b[0m \u001b[43m                 \u001b[49m\u001b[43mdev_loss_history\u001b[49m\u001b[38;5;241;43m=\u001b[39;49m\u001b[43mdev_loss_history\u001b[49m\u001b[43m,\u001b[49m\n\u001b[1;32m     15\u001b[0m \u001b[43m                 \u001b[49m\u001b[43mdev_data\u001b[49m\u001b[38;5;241;43m=\u001b[39;49m\u001b[43mdev_dataset\u001b[49m\u001b[43m,\u001b[49m\u001b[43m \u001b[49m\u001b[43msave_each_epoch\u001b[49m\u001b[38;5;241;43m=\u001b[39;49m\u001b[43mmodel_name\u001b[49m\u001b[43m,\u001b[49m\n\u001b[1;32m     16\u001b[0m \u001b[43m                 \u001b[49m\u001b[43muse_class_weights\u001b[49m\u001b[38;5;241;43m=\u001b[39;49m\u001b[38;5;28;43;01mTrue\u001b[39;49;00m\u001b[43m)\u001b[49m\n\u001b[1;32m     17\u001b[0m classifier\u001b[38;5;241m.\u001b[39msave(model_name)\n\u001b[1;32m     19\u001b[0m plot_loss_histories(loss_history, dev_loss_history)\n",
      "File \u001b[0;32m~/Documents/KogVet Programmet/Kanditatarbete/Meningstyper/Code/Speech-Act-Classifier/speechact/classifier/embedding.py:210\u001b[0m, in \u001b[0;36mEmbeddingClassifier.train\u001b[0;34m(self, data, batch_size, num_epochs, save_each_epoch, use_class_weights, loss_history, dev_loss_history, dev_data)\u001b[0m\n\u001b[1;32m    208\u001b[0m     loss\u001b[38;5;241m.\u001b[39mbackward()\n\u001b[1;32m    209\u001b[0m     optimizer\u001b[38;5;241m.\u001b[39mstep()\n\u001b[0;32m--> 210\u001b[0m     running_loss \u001b[38;5;241m+\u001b[39m\u001b[38;5;241m=\u001b[39m \u001b[43mloss\u001b[49m\u001b[38;5;241;43m.\u001b[39;49m\u001b[43mitem\u001b[49m\u001b[43m(\u001b[49m\u001b[43m)\u001b[49m\n\u001b[1;32m    212\u001b[0m \u001b[38;5;66;03m# Save model.\u001b[39;00m\n\u001b[1;32m    213\u001b[0m \u001b[38;5;28;01mif\u001b[39;00m save_each_epoch \u001b[38;5;241m!=\u001b[39m \u001b[38;5;28;01mNone\u001b[39;00m:\n",
      "\u001b[0;31mKeyboardInterrupt\u001b[0m: "
     ]
    }
   ],
   "source": [
    "train_model(train_corpus, dev_corpus, \n",
    "            model_name='../models/neural/no-hidden/final-model.pth')"
   ]
  },
  {
   "cell_type": "markdown",
   "metadata": {},
   "source": [
    "# Evaluate the Model"
   ]
  },
  {
   "cell_type": "code",
   "execution_count": null,
   "metadata": {},
   "outputs": [],
   "source": [
    "evaluate_model(test_corpus, model_name='../models/neural/no-hidden/final-model.pth')"
   ]
  }
 ],
 "metadata": {
  "kernelspec": {
   "display_name": ".venv",
   "language": "python",
   "name": "python3"
  },
  "language_info": {
   "codemirror_mode": {
    "name": "ipython",
    "version": 3
   },
   "file_extension": ".py",
   "mimetype": "text/x-python",
   "name": "python",
   "nbconvert_exporter": "python",
   "pygments_lexer": "ipython3",
   "version": "3.11.0"
  }
 },
 "nbformat": 4,
 "nbformat_minor": 2
}
