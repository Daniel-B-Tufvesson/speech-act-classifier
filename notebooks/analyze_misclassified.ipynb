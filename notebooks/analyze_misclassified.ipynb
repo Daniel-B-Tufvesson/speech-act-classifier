{
 "cells": [
  {
   "cell_type": "markdown",
   "metadata": {},
   "source": [
    "# Analysis of Misclassification\n",
    "Here I investigate what sentences are commonly misclassified by the rule-based classifier and the embedding-based classifier."
   ]
  },
  {
   "cell_type": "code",
   "execution_count": 2,
   "metadata": {},
   "outputs": [],
   "source": [
    "from context import speechact\n",
    "import speechact.classifier.embedding as emb\n",
    "import speechact.classifier.base as b\n",
    "import speechact.evaluation as evaluation\n",
    "import speechact.corpus as corp\n",
    "import speechact.annotate as anno\n",
    "import speechact.classifier.rulebased as rule\n",
    "import matplotlib.pyplot as plt\n",
    "\n",
    "# Load test data.\n",
    "test_corpus = corp.Corpus('../data/test-set.conllu.bz2')"
   ]
  },
  {
   "cell_type": "markdown",
   "metadata": {},
   "source": [
    "# Rule-based Classifier"
   ]
  },
  {
   "cell_type": "code",
   "execution_count": null,
   "metadata": {},
   "outputs": [],
   "source": [
    "rules_file = '../models/trainable_rule_classifier_sentiment_large.json'\n",
    "rb_classifier = rule.TrainableSentimentClassifierV2(ruleset_file=rules_file)\n"
   ]
  },
  {
   "cell_type": "markdown",
   "metadata": {},
   "source": [
    "## Embedding-based Classifier"
   ]
  },
  {
   "cell_type": "code",
   "execution_count": null,
   "metadata": {},
   "outputs": [],
   "source": [
    "emb_classifier = emb.EmbeddingClassifier()"
   ]
  }
 ],
 "metadata": {
  "kernelspec": {
   "display_name": ".venv",
   "language": "python",
   "name": "python3"
  },
  "language_info": {
   "codemirror_mode": {
    "name": "ipython",
    "version": 3
   },
   "file_extension": ".py",
   "mimetype": "text/x-python",
   "name": "python",
   "nbconvert_exporter": "python",
   "pygments_lexer": "ipython3",
   "version": "3.11.0"
  }
 },
 "nbformat": 4,
 "nbformat_minor": 2
}
